{
 "cells": [
  {
   "cell_type": "code",
   "execution_count": 8,
   "id": "d42aa963-3773-4f96-aeb5-20693fb9a707",
   "metadata": {},
   "outputs": [
    {
     "name": "stdout",
     "output_type": "stream",
     "text": [
      "500 events written to iot_events_for_change_detection.jsonl\n"
     ]
    }
   ],
   "source": [
    "import json\n",
    "import random\n",
    "from datetime import datetime, timedelta\n",
    "\n",
    "def generate_event(index, start_time):\n",
    "\n",
    "    \n",
    "    base_event = {\n",
    "        \"timestamp\": (start_time + timedelta(seconds=index * 30)).isoformat() + \"Z\",\n",
    "        \"device_id\": f\"sim-{random.randint(8000000, 8999999)}\",\n",
    "        \"iccid\": f\"8944500102198{random.randint(1000000, 9999999)}\",\n",
    "        \"status\": \"active\",\n",
    "        \"data_usage_mb\": round(random.uniform(10, 300), 1),\n",
    "        \"signal_strength\": random.randint(-100, -70),\n",
    "        \"latency_ms\": random.randint(50, 200),\n",
    "        \"jitter_ms\": random.randint(10, 50),\n",
    "        \"session_status\": \"active\",\n",
    "        \"location\": random.choice([\"France\", \"Germany\", \"Spain\", \"Italy\", \"Poland\"]),\n",
    "        \"roaming\": random.choice([False, True]),\n",
    "        \"operator\": random.choice([\"Orange\", \"Vodafone\", \"Telekom\", \"Free\", \"Bouygues\"]),\n",
    "        \"plan\": random.choice([\"IoT-Basic\", \"IoT-Pro\", \"IoT-Max\"])\n",
    "    }\n",
    "\n",
    "    # Inject anomalies\n",
    "    if 100 <= index <= 110:\n",
    "        # anomaly: abnormal high usage\n",
    "        base_event[\"data_usage_mb\"] = base_event[\"data_usage_mb\"] * random.randint(10, 50)\n",
    "        base_event[\"device_id\"] = \"sim-8000001\"\n",
    "        base_event[\"roaming\"] = False\n",
    "    elif 200 <= index <= 220:\n",
    "        # anomaly: higher latency, jitter, dropped session\n",
    "        base_event[\"latency_ms\"] = random.randint(300, 500)\n",
    "        base_event[\"jitter_ms\"] = random.randint(150, 300)\n",
    "        base_event[\"session_status\"] = \"dropped\"\n",
    "        base_event[\"signal_strength\"] = random.randint(-120, -110)\n",
    "    elif 400 <= index <= 410:\n",
    "        # anomaly: zero data, no signal\n",
    "        base_event[\"data_usage_mb\"] = 0.0\n",
    "        base_event[\"signal_strength\"] = -140\n",
    "        base_event[\"status\"] = \"inactive\"\n",
    "        base_event[\"session_status\"] = \"dropped\"\n",
    "    \n",
    "    return base_event\n",
    "\n",
    "# Generate and save the data\n",
    "start_time = datetime(2025, 4, 29, 12, 0, 0)\n",
    "events = [generate_event(i, start_time) for i in range(500)]\n",
    "\n",
    "with open(\"iot_events_for_change_detection.jsonl\", \"w\") as f:\n",
    "    for event in events:\n",
    "        f.write(\"|\"+json.dumps(event) + \"\\n\")\n",
    "\n",
    "print(\"500 events written to iot_events_for_change_detection.jsonl\")\n"
   ]
  },
  {
   "cell_type": "code",
   "execution_count": null,
   "id": "103bab97-3f93-46b4-b526-9715dc598834",
   "metadata": {},
   "outputs": [],
   "source": []
  },
  {
   "cell_type": "code",
   "execution_count": null,
   "id": "046bf01a-4c4c-4491-9273-cd7b24d20e37",
   "metadata": {},
   "outputs": [],
   "source": []
  }
 ],
 "metadata": {
  "kernelspec": {
   "display_name": "Python 3 (ipykernel)",
   "language": "python",
   "name": "python3"
  },
  "language_info": {
   "codemirror_mode": {
    "name": "ipython",
    "version": 3
   },
   "file_extension": ".py",
   "mimetype": "text/x-python",
   "name": "python",
   "nbconvert_exporter": "python",
   "pygments_lexer": "ipython3",
   "version": "3.13.0"
  }
 },
 "nbformat": 4,
 "nbformat_minor": 5
}
